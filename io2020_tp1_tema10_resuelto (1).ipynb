{
 "cells": [
  {
   "cell_type": "markdown",
   "metadata": {
    "colab_type": "text",
    "id": "OMJmSGCP8Qx7"
   },
   "source": [
    "# Investigación Operativa - I4051 \n",
    "# Ing. Industrial - UTN BA\n",
    "# Trabajo Practico 1\n",
    "Hola! Te damos la bienvenida al trabajo práctico opcional en Python de Investigación Operativa I4051 Miércoles Noche. La idea de este trabajo es que puedas lograr ciertos objetivos como modelar un problema y poder traducirlo a un lenguaje de programación. Consideramos que concretar este trabajo no es solo avanzar en los requisitos de aprobación de la materia, también es un avance y progreso desarrollado para tu crecimiento profesional y personal.\n",
    "\n",
    "Algunas consideraciones:\n",
    "- El trabajo es individual. No podes hacerlo con otras personas. \n",
    "- Deberas dejar notas con el prefijo # en el codigo para que podamos entender que hiciste. El codigo tiene que estar comentado. Tenes que dejar en claro que acciones estas haciendo para que la persona que lo lee pueda entenderlo (un codigo ilegible y no explicado será penalizado).\n",
    "- Podes agregar la cantidad de celdas que quieras para codigo. Debajo de las consignas podes escribir y hacer lo que quieras con el codigo, siempre que cumplas los objetivos que se te piden.\n",
    "* Cuantas mas celdas crees el codigo estara mas \"granulado\" en compartimientos y por ende sera mas facil detectar posibles errores a diferencia de hacer todo el problema en una unica celda.\n",
    "* Antes de comenzar a escribir el codigo podes empezar a diagramar el \"pseudo codigo\" y las partes que tendria tu codigo en papel. Una vez que tengas el diagrama macro de lo que tenes que hacer podes usarlo como \"mapa/hoja de ruta\" para saber como ir escribiendo el codigo.\n",
    "- El codigo tiene que ser reproducible. Esto quiere decir que cuando los docentes lo evaluen tambien tienen que poder ejecutar el codigo.\n",
    "- Es importante que cuando termines el trabajo guardes este notebook con todas las impresiones de pantalla y figuras que ejecuto el codigo. Esto genera que cuando el docente evalue pueda visualizar los resultados de manera directa. \n",
    "\n",
    "Te dejamos algunos links con acceso a documentación que creemos que te pueden servir:\n",
    "\n",
    "### Librerias:\n",
    "- Numpy https://numpy.org/ \n",
    "\n",
    "- Scipy https://www.scipy.org/\n",
    "- Matplotlib https://matplotlib.org/\n",
    "- Pandas https://pandas.pydata.org/\n",
    "- Seaborn https://seaborn.pydata.org/ \n",
    "\n",
    "### Cheatsheets (resumenes con atajos)\n",
    "- Numpy Cheatsheet (resumen con atajos de numpy) https://www.hb.ucsc.edu/wp-content/uploads/2017/09/numpy.pdf\n",
    "- Pandas Cheatsheet (resumen con atajos de pandas) https://pandas.pydata.org/Pandas_Cheat_Sheet.pdf \n",
    "\n",
    "### Ejemplos de visualización\n",
    "- Ejemplos para visualizar con Python https://jakevdp.github.io/PythonDataScienceHandbook/04.00-introduction-to-matplotlib.html\n"
   ]
  },
  {
   "cell_type": "markdown",
   "metadata": {
    "colab_type": "text",
    "id": "NPOcaO34_Z6e"
   },
   "source": [
    "---------------------------------------------------------------------\n",
    "---------------------------------------------------------------------\n",
    "---------------------------------------------------------------------\n",
    "\n",
    "# Consigna del trabajo\n",
    "**Objetivo 1** \\\n",
    "Dado un sistema de filas de espera con tasa de arribo lambda y despacho mu, ambas con distribuciones de probabilidad exponencial, generar una función “def” llamada “prueba_capacidad” donde ingrese como input:\n",
    "\n",
    "* Cantidad de canales M\n",
    "* Tasa de arribos lambda \n",
    "* Tasa de despacho mu\n",
    "* Capacidad del sistema de contener clientes en la fila\n",
    "\n",
    "La función debera calcular la longitud promedio de la fila dado los datos de input y la comparara si es mayor o menor que una capacidad teorica de la fila. Finalmente deberá devolver como output un cartel que diga:\n",
    "\n",
    "* “El sistema de filas de X cantidad de canales tiene una cantidad media de personas esperando igual a X personas y es menor a la capacidad de la fila por N lugares” si es que la cantidad de personas promedio en fila es menor a la capacidad de la fila\n",
    "* y otro cartel que diga “El sistema de filas tiene una cantidad promedio de clientes X en la fila y es mayor a la capacidad de la fila por N personas” en caso contrario.\n",
    "\\\n",
    "\\\n",
    "Probar la funcion para la cantidad de canales M = 1,2,3,4 y 5. Los datos son lambda = 35 arribos por hora, mu de un canal = 40 despachos por hora. La capacidad de la fila es 20 personas. Imprimir en pantalla todas las respuestas.\n",
    "---------------------------------------------------------------------\n",
    "---------------------------------------------------------------------\n",
    "---------------------------------------------------------------------\n"
   ]
  },
  {
   "cell_type": "code",
   "execution_count": 5,
   "metadata": {
    "colab": {},
    "colab_type": "code",
    "id": "XcMfLbPL-vKK"
   },
   "outputs": [],
   "source": [
    "# Importamos la libreria Numpy, es la que mas vas a usar.\n",
    "import numpy as np\n",
    "import string\n",
    "import math"
   ]
  },
  {
   "attachments": {
    "image.png": {
     "image/png": "[encoded data removed]"
    }
   },
   "cell_type": "markdown",
   "metadata": {},
   "source": [
    "# Aclaracion:\n",
    "Para realizar la siguiente operacion:\n",
    "![image.png](attachment:image.png)\n",
    "\n",
    "Se utilizo un ciclo for donde en cada iteracion se calculo la cuenta dentro de la serie, y a medida que avanzaba de iteracion a iteracion esto se suma y se computaba en la variable \"sumatoria\", para facilitar el calculo de P0\n"
   ]
  },
  {
   "cell_type": "code",
   "execution_count": 6,
   "metadata": {
    "colab": {},
    "colab_type": "code",
    "id": "9SEpnqZ2BKAF"
   },
   "outputs": [],
   "source": [
    "# Defino la funcion con la que vamos a contrastar la longitud promedio con la capacidad teorica\n",
    "def prueba_capacidad(M, lamda, mu, capacidad):\n",
    "    # Chequeo que los valores ingresados hayan sido correctos, si esto no se cumple se imprime un mensaje de error y se termina la funcion\n",
    "    if M <= 0:\n",
    "        print(\"Error: Debe haber al menos un canal de servicio\")\n",
    "        return 2\n",
    "    if lamda <= 0:\n",
    "        print(\"Error: La tasa de arribos no puede ser negativa o igual a 0\")\n",
    "        return 3\n",
    "    if mu <= 0:\n",
    "        print(\"Error: La tasa de despachos debe ser mayor a 0\")\n",
    "        return 4\n",
    "    if capacidad <= 0:\n",
    "        print(\"Error: La capacidad de la fila debe ser mayor a 0\")\n",
    "        return 5\n",
    "    \n",
    "    # Diferencio los casos cuando M = 1 y M > 1\n",
    "    if M == 1:\n",
    "        # Calculos\n",
    "        ro = lamda/mu\n",
    "        P0 = 1 - ro\n",
    "        Lq = (lamda**2)/(mu*(mu-lamda))\n",
    "        \n",
    "        # Comparo la capacidad teorica con la cantidad media de personas en la fila\n",
    "        if Lq < capacidad:\n",
    "            dif = capacidad - Lq\n",
    "            print(\"El sistema de filas de {} canales tiene una cantidad media de personas esperando igual a {} personas y es menor a la capacidad de la fila por {} lugares\".format(M, Lq, dif))\n",
    "        else:\n",
    "            dif = Lq - capacidad\n",
    "            print(\"El sistema de filas de {} canales tiene una cantidad media de personas esperando s {} en la fila y es mayor a la capacidad de la fila por {} personas\".format(M, Lq, dif))\n",
    "    \n",
    "    # Para cuando M > 1\n",
    "    else:\n",
    "        # Obtengo el factor de trafico ro\n",
    "        ro = lamda / (M * mu)        \n",
    "        \n",
    "        # Defino esta variable para poder calcular la serie en el divisor de P0\n",
    "        sumatoria = 0\n",
    "        for i in range(M):\n",
    "            sumatoria = sumatoria + ((lamda / mu) ** i) / math.factorial(i)\n",
    "\n",
    "        # Calculo P0\n",
    "        P0 = 1 / (sumatoria + ((lamda / mu) ** M) / (math.factorial(M) * (1 - ro)))\n",
    "\n",
    "        # Calculo la longitud media de la fila\n",
    "        Lq = (P0 * ((lamda / mu) ** M) * ro) / (math.factorial(M) * (1 - ro) ** 2)\n",
    "\n",
    "        # Comparo la capacidad con la cantidad media de personas en la fila\n",
    "        if Lq < capacidad:\n",
    "            dif = capacidad - Lq\n",
    "            print(\"El sistema de filas de {} canales tiene una cantidad media de personas esperando igual a {} personas y es menor a la capacidad de la fila por {} lugares\".format(M, Lq, dif))\n",
    "        else :\n",
    "            dif = Lq - capacidad\n",
    "            print(\"El sistema de filas tiene una cantidad promedio de clientes {} en la fila y es mayor a la capacidad de la fila por {} personas\".format(Lq, dif))\n"
   ]
  },
  {
   "cell_type": "code",
   "execution_count": 7,
   "metadata": {
    "colab": {},
    "colab_type": "code",
    "id": "Cy6ds646BfYI"
   },
   "outputs": [
    {
     "name": "stdout",
     "output_type": "stream",
     "text": [
      "El sistema de filas de 1 canales tiene una cantidad media de personas esperando igual a 6.125 personas y es menor a la capacidad de la fila por 13.875 lugares\n"
     ]
    }
   ],
   "source": [
    "# M = 1, lamda = 35, mu = 40, capacidad = 20\n",
    "prueba_capacidad(1,35,40,20)"
   ]
  },
  {
   "cell_type": "code",
   "execution_count": 8,
   "metadata": {
    "colab": {},
    "colab_type": "code",
    "id": "49y7EBO17fAf"
   },
   "outputs": [
    {
     "name": "stdout",
     "output_type": "stream",
     "text": [
      "El sistema de filas de 2 canales tiene una cantidad media de personas esperando igual a 0.20712560386473433 personas y es menor a la capacidad de la fila por 19.792874396135264 lugares\n"
     ]
    }
   ],
   "source": [
    "# M = 2, lamda = 35, mu = 40, capacidad = 20\n",
    "prueba_capacidad(2,35,40,20)\n"
   ]
  },
  {
   "cell_type": "code",
   "execution_count": 9,
   "metadata": {},
   "outputs": [
    {
     "name": "stdout",
     "output_type": "stream",
     "text": [
      "El sistema de filas de 3 canales tiene una cantidad media de personas esperando igual a 0.026871250783418395 personas y es menor a la capacidad de la fila por 19.97312874921658 lugares\n"
     ]
    }
   ],
   "source": [
    "# M = 3, lamda = 35, mu = 40, capacidad = 20\n",
    "prueba_capacidad(3,35,40,20)"
   ]
  },
  {
   "cell_type": "code",
   "execution_count": 10,
   "metadata": {},
   "outputs": [
    {
     "name": "stdout",
     "output_type": "stream",
     "text": [
      "El sistema de filas de 4 canales tiene una cantidad media de personas esperando igual a 0.003646244630537597 personas y es menor a la capacidad de la fila por 19.996353755369462 lugares\n"
     ]
    }
   ],
   "source": [
    "# M = 4, lamda = 35, mu = 40, capacidad = 20\n",
    "prueba_capacidad(4,35,40,20)"
   ]
  },
  {
   "cell_type": "code",
   "execution_count": 11,
   "metadata": {},
   "outputs": [
    {
     "name": "stdout",
     "output_type": "stream",
     "text": [
      "El sistema de filas de 5 canales tiene una cantidad media de personas esperando igual a 0.0004580849452219975 personas y es menor a la capacidad de la fila por 19.999541915054778 lugares\n"
     ]
    }
   ],
   "source": [
    "# M = 5, lamda = 35, mu = 40, capacidad = 20\n",
    "prueba_capacidad(5,35,40,20)"
   ]
  }
 ],
 "metadata": {
  "colab": {
   "collapsed_sections": [],
   "name": "io2020_tp1_tema10.ipynb",
   "provenance": [
    {
     "file_id": "12yV6OkbrXG1wv8XLUW2fkPa3GgkV9OZa",
     "timestamp": 1557534421459
    },
    {
     "file_id": "1IeBl2UMMVJhoyYmbRCW3tTKk472TV_FM",
     "timestamp": 1557534192358
    },
    {
     "file_id": "1I5IAiuT9BEd4V7f0wxLosK_qPwbWea00",
     "timestamp": 1557533713978
    },
    {
     "file_id": "1aBJ3ZIphr0W_nO6W2QGpMwSS49hKsFJz",
     "timestamp": 1557533093543
    },
    {
     "file_id": "1PqYrwtjDb0kY70PU0LU-f9IPq4-0sNB1",
     "timestamp": 1557532814270
    },
    {
     "file_id": "1fYNT1eZTOEWib0SP8tjgtp0gP1pbADnx",
     "timestamp": 1557532286227
    },
    {
     "file_id": "1L_kK6Tl5CVffREmUZ2tuSx4Pg8pdJjYG",
     "timestamp": 1557529069154
    },
    {
     "file_id": "1QD7nca0hSvOnYsQqhBqZ6R0AK5SJtxFE",
     "timestamp": 1557528722144
    }
   ]
  },
  "kernelspec": {
   "display_name": "Python 3",
   "language": "python",
   "name": "python3"
  },
  "language_info": {
   "codemirror_mode": {
    "name": "ipython",
    "version": 3
   },
   "file_extension": ".py",
   "mimetype": "text/x-python",
   "name": "python",
   "nbconvert_exporter": "python",
   "pygments_lexer": "ipython3",
   "version": "3.7.6"
  }
 },
 "nbformat": 4,
 "nbformat_minor": 1
}
